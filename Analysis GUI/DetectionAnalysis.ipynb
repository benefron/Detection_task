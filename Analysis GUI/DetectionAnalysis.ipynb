{
 "cells": [
  {
   "cell_type": "code",
   "execution_count": 1,
   "metadata": {},
   "outputs": [],
   "source": [
    "# imprt all necessery packages\n",
    "\n",
    "from PyQt5.QtWidgets import QMainWindow, QApplication, QPushButton, QComboBox, QFileDialog, QTextEdit ,QSpinBox, QGraphicsView\n",
    "from PyQt5 import uic\n",
    "import os\n",
    "import sys\n",
    "import pandas as pd\n",
    "#from tkinter import Tk\n",
    "#from tkinter.filedialog import askdirectory\n",
    "import pyqtgraph as pg\n",
    "import numpy as np\n",
    "from scipy.stats import norm"
   ]
  },
  {
   "cell_type": "code",
   "execution_count": 2,
   "metadata": {},
   "outputs": [],
   "source": [
    "#Create the main class\n",
    "class UI(QMainWindow):\n",
    "    def __init__(self):\n",
    "        super(UI, self).__init__()\n",
    "\n",
    "        # load UI file\n",
    "        uic.loadUi('MainGUI.ui', self)\n",
    "\n",
    "        #define our widgets\n",
    "        self.loadB = self.findChild(QPushButton,'LoadData')\n",
    "        self.Animal = self.findChild(QComboBox,'Animal')\n",
    "        self.Date = self.findChild(QComboBox,'Date')\n",
    "        self.Session = self.findChild(QSpinBox,'Session')\n",
    "        self.graphicsView_2 = self.findChild(QGraphicsView,'QSpinBox,')\n",
    "        \n",
    "\n",
    "\n",
    "        # load directories\n",
    "        self.loadB.clicked.connect(self.DirLoad)\n",
    "        self.Animal.activated.connect(self.getData)\n",
    "\n",
    "        #show the app\n",
    "        self.show()\n",
    "    #define the functions for the class\n",
    "    def DirLoad(self):\n",
    "        self.Animal.clear()\n",
    "        directory = QFileDialog.getExistingDirectory(None, \"Select a folder\")\n",
    "        if directory:\n",
    "    # Get a list of all directories in the selected directory\n",
    "            dir_list = [f.path for f in os.scandir(directory) if f.is_dir()]\n",
    "            self.Animal.addItems(dir_list)\n",
    "\n",
    "    def getData(self):\n",
    "        \n",
    "        def month4day():\n",
    "            days = self.events.columns[2]\n",
    "            months = self.events.columns[3]\n",
    "            self.day_month = self.events[days].astype('str') + '_' + self.events[months].astype('str')\n",
    "            self.dayU = self.day_month.unique()\n",
    "            self.dPrime = []\n",
    "            for session in self.dayU:\n",
    "                currentSession = self.events.values[self.day_month == session,0]\n",
    "                hits = currentSession[currentSession == '001 - Hit'].size\n",
    "                miss = currentSession[currentSession == '000 - Miss'].size\n",
    "                try:\n",
    "                    hitRate = hits/(hits+miss)\n",
    "                    zHit = norm.ppf(hitRate)\n",
    "                except ZeroDivisionError:\n",
    "                    hitRate = 0\n",
    "                    zHit = 0\n",
    "                falseA = currentSession[currentSession == '003 - False alarm'].size\n",
    "                correctR = currentSession[currentSession == '002 - Correct rejection'].size\n",
    "                try:\n",
    "                    FARate = falseA/(falseA+correctR)\n",
    "                    zFA = norm.ppf(FARate)\n",
    "                except ZeroDivisionError:\n",
    "                    FARate = 0\n",
    "                    zFA = 0\n",
    "                dPr = zHit - zFA\n",
    "                print(dPr)\n",
    "                self.dPrime.append(dPr)\n",
    "            return self.dayU ,self.dPrime\n",
    "\n",
    "        self.Date.clear()\n",
    "        file1_path = os.path.join(self.Animal.currentText(), \"events.csv\")\n",
    "        self.events = pd.read_csv(file1_path,on_bad_lines='skip')\n",
    "        self.Date.addItems(month4day()[0])\n",
    "        plot_item = pg.PlotItem()\n",
    "        self.graphicsView_2.setScene(pg.GraphicsScene(parent = self.graphicsView_2))\n",
    "        self.graphicsView_2.scene().add_item(plot_item)\n",
    "        plot_item.plot(self.dayU,self.dPrime)\n",
    "\n",
    "\n",
    "\n",
    "\n",
    "    \n",
    "    \n",
    "\n",
    "        \n"
   ]
  },
  {
   "cell_type": "code",
   "execution_count": 3,
   "metadata": {},
   "outputs": [
    {
     "name": "stdout",
     "output_type": "stream",
     "text": [
      "nan\n",
      "nan\n",
      "nan\n",
      "nan\n",
      "-inf\n",
      "inf\n",
      "nan\n",
      "1.166622890890968\n",
      "nan\n"
     ]
    },
    {
     "name": "stderr",
     "output_type": "stream",
     "text": [
      "/tmp/ipykernel_461345/3451817875.py:57: RuntimeWarning: invalid value encountered in scalar subtract\n",
      "  dPr = zHit - zFA\n"
     ]
    },
    {
     "ename": "TypeError",
     "evalue": "index 0 has type 'numpy.ndarray' but 'str' is expected",
     "output_type": "error",
     "traceback": [
      "\u001b[0;31m---------------------------------------------------------------------------\u001b[0m",
      "\u001b[0;31mTypeError\u001b[0m                                 Traceback (most recent call last)",
      "Cell \u001b[0;32mIn[2], line 65\u001b[0m, in \u001b[0;36mUI.getData\u001b[0;34m(self)\u001b[0m\n\u001b[1;32m     63\u001b[0m file1_path \u001b[39m=\u001b[39m os\u001b[39m.\u001b[39mpath\u001b[39m.\u001b[39mjoin(\u001b[39mself\u001b[39m\u001b[39m.\u001b[39mAnimal\u001b[39m.\u001b[39mcurrentText(), \u001b[39m\"\u001b[39m\u001b[39mevents.csv\u001b[39m\u001b[39m\"\u001b[39m)\n\u001b[1;32m     64\u001b[0m \u001b[39mself\u001b[39m\u001b[39m.\u001b[39mevents \u001b[39m=\u001b[39m pd\u001b[39m.\u001b[39mread_csv(file1_path,on_bad_lines\u001b[39m=\u001b[39m\u001b[39m'\u001b[39m\u001b[39mskip\u001b[39m\u001b[39m'\u001b[39m)\n\u001b[0;32m---> 65\u001b[0m \u001b[39mself\u001b[39;49m\u001b[39m.\u001b[39;49mDate\u001b[39m.\u001b[39;49maddItems(month4day())\n\u001b[1;32m     66\u001b[0m plot_item \u001b[39m=\u001b[39m pg\u001b[39m.\u001b[39mPlotItem()\n\u001b[1;32m     67\u001b[0m \u001b[39mself\u001b[39m\u001b[39m.\u001b[39mgraphicsView_2\u001b[39m.\u001b[39msetScene(pg\u001b[39m.\u001b[39mGraphicsScene(parent \u001b[39m=\u001b[39m \u001b[39mself\u001b[39m\u001b[39m.\u001b[39mgraphicsView_2))\n",
      "\u001b[0;31mTypeError\u001b[0m: index 0 has type 'numpy.ndarray' but 'str' is expected"
     ]
    },
    {
     "data": {
      "text/plain": [
       "0"
      ]
     },
     "execution_count": 3,
     "metadata": {},
     "output_type": "execute_result"
    }
   ],
   "source": [
    "app = QApplication(sys.argv)\n",
    "UIWindow = UI()\n",
    "app.exec_()"
   ]
  },
  {
   "cell_type": "code",
   "execution_count": null,
   "metadata": {},
   "outputs": [],
   "source": [
    "\n",
    "events = pd.read_csv('/home/ben/Z/DetectionTask/F101/events.csv',on_bad_lines='skip')"
   ]
  },
  {
   "cell_type": "code",
   "execution_count": null,
   "metadata": {},
   "outputs": [],
   "source": [
    "days = events.columns[2]\n",
    "months = events.columns[3]\n",
    "day_month = events[days].astype('str') + '_' + events[months].astype('str')\n",
    "dayU = day_month.unique()\n",
    "session = dayU[1]\n",
    "currentSession = events.values[day_month == session,0:4]"
   ]
  },
  {
   "cell_type": "code",
   "execution_count": null,
   "metadata": {},
   "outputs": [],
   "source": [
    "hits = currentSession[currentSession == '001 - Hit'].size"
   ]
  }
 ],
 "metadata": {
  "kernelspec": {
   "display_name": "base",
   "language": "python",
   "name": "python3"
  },
  "language_info": {
   "codemirror_mode": {
    "name": "ipython",
    "version": 3
   },
   "file_extension": ".py",
   "mimetype": "text/x-python",
   "name": "python",
   "nbconvert_exporter": "python",
   "pygments_lexer": "ipython3",
   "version": "3.9.12"
  },
  "orig_nbformat": 4,
  "vscode": {
   "interpreter": {
    "hash": "d8c0ad78633a8b43965fe5f8bc8a2da663397bf1cf3d05244bf937683be8c88a"
   }
  }
 },
 "nbformat": 4,
 "nbformat_minor": 2
}
