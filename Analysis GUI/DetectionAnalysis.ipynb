{
 "cells": [
  {
   "cell_type": "code",
   "execution_count": 1,
   "metadata": {},
   "outputs": [],
   "source": [
    "# imprt all necessery packages\n",
    "\n",
    "from PyQt5.QtWidgets import QMainWindow, QApplication, QPushButton, QComboBox, QFileDialog, QTextEdit\n",
    "from PyQt5 import uic\n",
    "import os\n",
    "import sys\n",
    "import pandas as pd\n",
    "#from tkinter import Tk\n",
    "#from tkinter.filedialog import askdirectory\n",
    "import pyqtgraph as pg\n",
    "import numpy as np"
   ]
  },
  {
   "cell_type": "code",
   "execution_count": 2,
   "metadata": {},
   "outputs": [],
   "source": [
    "#Create the main class\n",
    "class UI(QMainWindow):\n",
    "    def __init__(self):\n",
    "        super(UI, self).__init__()\n",
    "\n",
    "        # load UI file\n",
    "        uic.loadUi('MainGUI.ui', self)\n",
    "\n",
    "        #define our widgets\n",
    "        self.loadB = self.findChild(QPushButton,'LoadData')\n",
    "        self.Animal = self.findChild(QComboBox,'Animal')\n",
    "        self.Date = self.findChild(QComboBox,'Date')\n",
    "        self.FeedBack = self.findChild(QTextEdit,'FeedBack')\n",
    "\n",
    "\n",
    "        # load directories\n",
    "        self.loadB.clicked.connect(self.DirLoad)\n",
    "        self.Animal.activated.connect(self.getData)\n",
    "\n",
    "        #show the app\n",
    "        self.show()\n",
    "    #define the functions for the class\n",
    "    def DirLoad(self):\n",
    "        self.Animal.clear()\n",
    "        directory = QFileDialog.getExistingDirectory(None, \"Select a folder\")\n",
    "        if directory:\n",
    "    # Get a list of all directories in the selected directory\n",
    "            dir_list = [f.path for f in os.scandir(directory) if f.is_dir()]\n",
    "            self.Animal.addItems(dir_list)\n",
    "\n",
    "    def getData(self):\n",
    "        \n",
    "        def month4day(events):\n",
    "            days = events.values[:,2]\n",
    "            months = events.values[:,3]\n",
    "            uniqueDays = np.unique(days)\n",
    "            dayU = []\n",
    "            k = 0\n",
    "            for day in uniqueDays:\n",
    "                #print(day)\n",
    "                allMonth = months[np.where(days == day)]\n",
    "                #print(allMonth)\n",
    "                uniqueMonth = np.unique(allMonth)\n",
    "                #print(uniqueMonth)\n",
    "                for dayM in uniqueMonth:\n",
    "                    string = \"{}_{}\".format(day,dayM)\n",
    "                    dayU.append(string)\n",
    "                    k += 1\n",
    "            return dayU\n",
    "        self.Date.clear()\n",
    "        file1_path = os.path.join(self.Animal.currentText(), \"events.csv\")\n",
    "        events = pd.read_csv(file1_path,on_bad_lines='skip')\n",
    "        self.FeedBack.setText(str(events.iloc[0]))\n",
    "        self.Date.addItems(month4day(events))\n",
    "\n",
    "    \n",
    "    \n",
    "\n",
    "        \n"
   ]
  },
  {
   "cell_type": "code",
   "execution_count": 3,
   "metadata": {},
   "outputs": [
    {
     "data": {
      "text/plain": [
       "0"
      ]
     },
     "execution_count": 3,
     "metadata": {},
     "output_type": "execute_result"
    }
   ],
   "source": [
    "app = QApplication(sys.argv)\n",
    "UIWindow = UI()\n",
    "app.exec_()"
   ]
  },
  {
   "cell_type": "code",
   "execution_count": 1,
   "metadata": {},
   "outputs": [
    {
     "name": "stdout",
     "output_type": "stream",
     "text": [
      "['/home/ben/Z/Detection task/F101', '/home/ben/Z/Detection task/F102']\n"
     ]
    }
   ],
   "source": []
  }
 ],
 "metadata": {
  "kernelspec": {
   "display_name": "base",
   "language": "python",
   "name": "python3"
  },
  "language_info": {
   "codemirror_mode": {
    "name": "ipython",
    "version": 3
   },
   "file_extension": ".py",
   "mimetype": "text/x-python",
   "name": "python",
   "nbconvert_exporter": "python",
   "pygments_lexer": "ipython3",
   "version": "3.9.12"
  },
  "orig_nbformat": 4,
  "vscode": {
   "interpreter": {
    "hash": "d8c0ad78633a8b43965fe5f8bc8a2da663397bf1cf3d05244bf937683be8c88a"
   }
  }
 },
 "nbformat": 4,
 "nbformat_minor": 2
}
